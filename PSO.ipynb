{
 "cells": [
  {
   "cell_type": "code",
   "execution_count": 2,
   "id": "a97c30c3",
   "metadata": {},
   "outputs": [],
   "source": [
    "import numpy as np\n",
    "import random\n",
    "import matplotlib.pyplot as plt"
   ]
  },
  {
   "cell_type": "code",
   "execution_count": 3,
   "id": "2f7e7ef1",
   "metadata": {},
   "outputs": [],
   "source": [
    "def f(x):\n",
    "    #return ((x*x*x)-(10*x*x)+15)\n",
    "    return x*x"
   ]
  },
  {
   "cell_type": "code",
   "execution_count": 4,
   "id": "c9657511",
   "metadata": {},
   "outputs": [],
   "source": [
    "n_particles = 30\n",
    "n_iter = 1000\n",
    "\n",
    "#hyper parameters\n",
    "w = 0.6\n",
    "c1 = 2.1\n",
    "c2 = 4-c1"
   ]
  },
  {
   "cell_type": "code",
   "execution_count": 10,
   "id": "31cbe9d9",
   "metadata": {},
   "outputs": [
    {
     "name": "stdout",
     "output_type": "stream",
     "text": [
      "0.46087653070200996\n"
     ]
    }
   ],
   "source": [
    "x = np.array([(-1) ** bool(random.getrandbits(1)) * random.random() * 5 for _ in range(n_particles)])\n",
    "v = np.array([(-1) ** bool(random.getrandbits(1)) * random.random() * 10 for _ in range(n_particles)])\n",
    "\n",
    "print(random.random())\n",
    "p_best_x = x.copy()\n",
    "p_best = np.array([f(x[i]) for i in range(n_particles)])\n",
    "g_best = 1000000\n",
    "g_x = x[0]"
   ]
  },
  {
   "cell_type": "code",
   "execution_count": 5,
   "id": "9951222e",
   "metadata": {},
   "outputs": [
    {
     "data": {
      "text/plain": [
       "array([ 3.25825602,  0.3447681 ,  0.51437111,  2.39319328,  3.59274243,\n",
       "        0.3868514 , -3.11497585, -2.77776836,  0.26679717,  1.64514434,\n",
       "       -3.9691183 ,  2.62892527, -4.10727388, -2.1795674 , -3.01653454,\n",
       "        3.75897049,  3.02403521, -3.78041806, -2.50798707,  0.94961814,\n",
       "       -4.54649724, -3.53424869, -4.79570802, -1.26381873,  2.63103274,\n",
       "        3.70068041,  1.34263164,  1.83741549, -3.9631939 ,  4.6783018 ])"
      ]
     },
     "execution_count": 5,
     "metadata": {},
     "output_type": "execute_result"
    }
   ],
   "source": [
    "p_best_x"
   ]
  },
  {
   "cell_type": "code",
   "execution_count": 6,
   "id": "b0edbe31",
   "metadata": {},
   "outputs": [
    {
     "name": "stdout",
     "output_type": "stream",
     "text": [
      "1000000 3.2582560195205974\n"
     ]
    }
   ],
   "source": [
    "print(g_best,g_x)"
   ]
  },
  {
   "cell_type": "code",
   "execution_count": 7,
   "id": "a25a377d",
   "metadata": {},
   "outputs": [
    {
     "name": "stdout",
     "output_type": "stream",
     "text": [
      "0.07118072870682926\n",
      "0.005348987151926798\n",
      "0.005348987151926798\n",
      "0.0023163894292127177\n",
      "0.0023163894292127177\n",
      "0.0023163894292127177\n",
      "0.0023163894292127177\n",
      "0.0023163894292127177\n",
      "0.0009544859211309397\n",
      "0.0009544859211309397\n",
      "0.0006082909765269535\n",
      "0.0006082909765269535\n",
      "0.0006082909765269535\n",
      "0.0006082909765269535\n",
      "0.0006082909765269535\n",
      "0.0006082909765269535\n",
      "0.00019654316980633683\n",
      "2.697645423404027e-05\n",
      "2.697645423404027e-05\n",
      "8.771924652405082e-06\n",
      "1.110146475709412e-06\n",
      "1.110146475709412e-06\n",
      "1.110146475709412e-06\n",
      "1.110146475709412e-06\n",
      "1.110146475709412e-06\n",
      "1.110146475709412e-06\n",
      "2.53446719129713e-07\n",
      "Broken on iteration 29 with value 2.53446719129713e-07\n"
     ]
    }
   ],
   "source": [
    "for iter in range (n_iter):\n",
    "    \n",
    "    #update local best \n",
    "    for i in range(n_particles):\n",
    "        x_fit = f(x[i])\n",
    "        if(p_best[i]>x_fit):\n",
    "            p_best[i] = x_fit\n",
    "            p_best_x[i] = x[i]\n",
    "    \n",
    "    #update global best\n",
    "    for i in range(n_particles):\n",
    "        x_fit = f(x[i])\n",
    "        if(g_best>x_fit):\n",
    "            g_best = x_fit\n",
    "            g_x = x[i]\n",
    "            \n",
    "            \n",
    "    print(g_best)\n",
    "    if(g_best<0.000001):\n",
    "        print(f\"Broken on iteration {i} with value {g_best}\")\n",
    "        break\n",
    "        \n",
    "    #update velocity\n",
    "    new_v = []\n",
    "    for i in range(n_particles):\n",
    "        inertial = w * v[i]\n",
    "        self_confidence = c1 * random.random() * (p_best_x[i] - x[i])\n",
    "        swarm_confidence = c2 * random.random() * (g_x - x[i])\n",
    "        t_v = inertial + self_confidence + swarm_confidence\n",
    "        if(t_v>10):\n",
    "            t_v = 10.0\n",
    "        elif(t_v<-10):\n",
    "            t_v = -10.0\n",
    "        new_v.append(t_v)\n",
    "    v = np.array(new_v)\n",
    "    x = x+v\n",
    "        "
   ]
  },
  {
   "cell_type": "code",
   "execution_count": 175,
   "id": "1a458a63",
   "metadata": {},
   "outputs": [
    {
     "name": "stdout",
     "output_type": "stream",
     "text": [
      "4.823774705590708e-07 -0.0006945339952508234\n"
     ]
    }
   ],
   "source": [
    "print(g_best,g_x)\n"
   ]
  },
  {
   "cell_type": "code",
   "execution_count": null,
   "id": "8e7f5ad8",
   "metadata": {},
   "outputs": [],
   "source": []
  }
 ],
 "metadata": {
  "kernelspec": {
   "display_name": "Python 3 (ipykernel)",
   "language": "python",
   "name": "python3"
  },
  "language_info": {
   "codemirror_mode": {
    "name": "ipython",
    "version": 3
   },
   "file_extension": ".py",
   "mimetype": "text/x-python",
   "name": "python",
   "nbconvert_exporter": "python",
   "pygments_lexer": "ipython3",
   "version": "3.9.7"
  }
 },
 "nbformat": 4,
 "nbformat_minor": 5
}
