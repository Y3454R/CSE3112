{
 "cells": [
  {
   "cell_type": "code",
   "execution_count": 343,
   "id": "d212452f",
   "metadata": {},
   "outputs": [],
   "source": [
    "import numpy as np"
   ]
  },
  {
   "cell_type": "code",
   "execution_count": 344,
   "id": "6b369488",
   "metadata": {},
   "outputs": [],
   "source": [
    "def ft(x1,x2,x3):\n",
    "    return 10*x1 + 10*x2 - 15*x3"
   ]
  },
  {
   "cell_type": "code",
   "execution_count": 387,
   "id": "3675bf40",
   "metadata": {},
   "outputs": [],
   "source": [
    "particles = 30\n",
    "vmax = 3\n",
    "vmin = -3\n",
    "X = np.random.uniform(-20,20,(particles,3))\n",
    "V = np.random.uniform(vmin,vmax,(particles,3))"
   ]
  },
  {
   "cell_type": "code",
   "execution_count": 388,
   "id": "453233f6",
   "metadata": {},
   "outputs": [
    {
     "data": {
      "text/plain": [
       "array([[  4.54652208,  18.37117535,  19.72140064],\n",
       "       [ 10.06432869,  18.77058031,  -8.5616069 ],\n",
       "       [ 12.15120968,  11.75870527,  16.67926786],\n",
       "       [-12.04769293,  -8.28972315,   2.8823337 ],\n",
       "       [-16.33386626, -17.81409799,  -0.12979575],\n",
       "       [ -5.03002223,   0.56077645, -10.53761759],\n",
       "       [  5.83810686, -12.06206204,   3.57844402],\n",
       "       [ -6.75307163,  16.15598374,   7.51772682],\n",
       "       [ 18.06834225,  -1.01924957,   5.80760851],\n",
       "       [  2.73398175,   9.78242548,   3.59991567],\n",
       "       [ -7.34318502,  -7.30041614,  -6.0450459 ],\n",
       "       [  8.01954159, -12.28004966,  12.41365824],\n",
       "       [  6.85295962, -11.5635743 ,  16.83070221],\n",
       "       [  0.51989164,   2.63580044, -15.54074981],\n",
       "       [ -6.56468092,  18.88534577,   2.68810001],\n",
       "       [  4.19837551,  -7.64248664,   4.50730933],\n",
       "       [  6.27881705,  19.61770881,  17.27671355],\n",
       "       [-16.2291542 ,  16.96220328,  13.29006499],\n",
       "       [ -4.41232148,   5.43393837,  -1.86696095],\n",
       "       [  0.12249064,  18.98913627,  -6.08359461],\n",
       "       [-13.61754566,   4.5351705 ,  17.70725141],\n",
       "       [ 14.31979164,   2.58667104,  18.26970704],\n",
       "       [ 11.5658261 , -15.4718461 ,  -3.769301  ],\n",
       "       [-17.16929714,  -7.60801063,  18.14077798],\n",
       "       [-10.97553846, -19.20581721,  13.83870804],\n",
       "       [  9.78324796,  -5.60938164,  14.89744555],\n",
       "       [-11.82881441,  -6.14869658,  -2.33341934],\n",
       "       [ 14.5150201 ,  15.998856  ,  15.99549609],\n",
       "       [ 16.21994153,  -2.43323989,   4.99881146],\n",
       "       [-14.44930715, -15.39168904,  -8.74261842]])"
      ]
     },
     "execution_count": 388,
     "metadata": {},
     "output_type": "execute_result"
    }
   ],
   "source": [
    "X"
   ]
  },
  {
   "cell_type": "code",
   "execution_count": 389,
   "id": "abea8920",
   "metadata": {},
   "outputs": [
    {
     "data": {
      "text/plain": [
       "array([[3., 3., 3.],\n",
       "       [3., 3., 3.],\n",
       "       [3., 3., 3.],\n",
       "       [3., 3., 3.],\n",
       "       [3., 3., 3.]])"
      ]
     },
     "execution_count": 389,
     "metadata": {},
     "output_type": "execute_result"
    }
   ],
   "source": [
    "v"
   ]
  },
  {
   "cell_type": "code",
   "execution_count": 390,
   "id": "067310e2",
   "metadata": {},
   "outputs": [],
   "source": [
    "p_best = X\n",
    "p_best_fit = ft(X[:,0], X[:,1],X[:,2])\n",
    "g_best = X[np.argmin(p_best_fit)]\n",
    "g_best_fit = ft(g_best[0], g_best[1], g_best[2])"
   ]
  },
  {
   "cell_type": "code",
   "execution_count": 391,
   "id": "a3c9f00f",
   "metadata": {},
   "outputs": [],
   "source": [
    "#parameters\n",
    "w = 5\n",
    "c1 = 2\n",
    "c2 = 2"
   ]
  },
  {
   "cell_type": "code",
   "execution_count": 392,
   "id": "bc8531a2",
   "metadata": {},
   "outputs": [],
   "source": [
    "def up():\n",
    "    global X, V, w, c1, c2, p_best, p_best_fit, g_best, g_best_fit, vmin, vmax\n",
    "    for i in range(particles):\n",
    "        r1 = np.random.rand()\n",
    "        r2 = np.random.rand()\n",
    "        V = w*V + c1*r1*(p_best-X)+c2*r2*(g_best-X)\n",
    "        for vel in range(particles):\n",
    "            for dim in range(3):\n",
    "                if(V[i,dim] > vmax):\n",
    "                    V[i,dim] = vmax\n",
    "                elif(V[i,dim]<vmin):\n",
    "                    V[i,dim] = vmin\n",
    "        X = X + V\n",
    "        new_fit = ft(X[:,0], X[:,1], X[:,2])\n",
    "        for p in range(particles):\n",
    "            if(new_fit[p] < p_best_fit[i]):\n",
    "                p_best_fit[p] = new_fit[p]\n",
    "                p_best[p] = X[p]\n",
    "            if(p_best_fit[p] < g_best_fit):\n",
    "                g_best_fit = p_best_fit[p]\n",
    "                g_best = p_best[p]"
   ]
  },
  {
   "cell_type": "code",
   "execution_count": 393,
   "id": "0b689230",
   "metadata": {
    "scrolled": true
   },
   "outputs": [
    {
     "name": "stderr",
     "output_type": "stream",
     "text": [
      "C:\\Users\\ASUS\\AppData\\Local\\Temp/ipykernel_1320/541197467.py:2: RuntimeWarning: overflow encountered in multiply\n",
      "  return 10*x1 + 10*x2 - 15*x3\n",
      "C:\\Users\\ASUS\\AppData\\Local\\Temp/ipykernel_1320/541197467.py:2: RuntimeWarning: overflow encountered in subtract\n",
      "  return 10*x1 + 10*x2 - 15*x3\n",
      "C:\\Users\\ASUS\\AppData\\Local\\Temp/ipykernel_1320/541197467.py:2: RuntimeWarning: overflow encountered in add\n",
      "  return 10*x1 + 10*x2 - 15*x3\n",
      "C:\\Users\\ASUS\\AppData\\Local\\Temp/ipykernel_1320/3922900025.py:6: RuntimeWarning: overflow encountered in multiply\n",
      "  V = w*V + c1*r1*(p_best-X)+c2*r2*(g_best-X)\n",
      "C:\\Users\\ASUS\\AppData\\Local\\Temp/ipykernel_1320/3922900025.py:6: RuntimeWarning: invalid value encountered in add\n",
      "  V = w*V + c1*r1*(p_best-X)+c2*r2*(g_best-X)\n",
      "C:\\Users\\ASUS\\AppData\\Local\\Temp/ipykernel_1320/3922900025.py:6: RuntimeWarning: overflow encountered in add\n",
      "  V = w*V + c1*r1*(p_best-X)+c2*r2*(g_best-X)\n"
     ]
    },
    {
     "name": "stdout",
     "output_type": "stream",
     "text": [
      "g_best_fit = -inf\n",
      "g_best= [-1.26706540e+307 -2.75004191e+306  1.67727876e+307]\n"
     ]
    }
   ],
   "source": [
    "for i in range(100):\n",
    "    up()\n",
    "print(f\"g_best_fit = {g_best_fit}\\ng_best= {g_best}\")"
   ]
  }
 ],
 "metadata": {
  "kernelspec": {
   "display_name": "Python 3 (ipykernel)",
   "language": "python",
   "name": "python3"
  },
  "language_info": {
   "codemirror_mode": {
    "name": "ipython",
    "version": 3
   },
   "file_extension": ".py",
   "mimetype": "text/x-python",
   "name": "python",
   "nbconvert_exporter": "python",
   "pygments_lexer": "ipython3",
   "version": "3.9.7"
  }
 },
 "nbformat": 4,
 "nbformat_minor": 5
}
