{
 "cells": [
  {
   "cell_type": "code",
   "execution_count": 35,
   "id": "418c70b3",
   "metadata": {},
   "outputs": [],
   "source": [
    "import numpy as np\n",
    "import matplotlib.pyplot as plt\n",
    "import seaborn as sns\n",
    "# Make_blobs dataset for clustering.\n",
    "from sklearn.datasets import make_blobs\n",
    "X, y = make_blobs(n_samples=200, centers=4, random_state=77)\n",
    "# Number of training examples and cluster centers.\n",
    "m = X.shape[0] \n",
    "n = X.shape[1] \n",
    "n_iter = 50"
   ]
  },
  {
   "cell_type": "code",
   "execution_count": 36,
   "id": "52d7be75",
   "metadata": {},
   "outputs": [
    {
     "name": "stdout",
     "output_type": "stream",
     "text": [
      "(200, 2) (200,)\n",
      "200 2\n"
     ]
    }
   ],
   "source": [
    "# Shape of the dataset.\n",
    "print(X.shape, y.shape)\n",
    "print(m,n)"
   ]
  },
  {
   "cell_type": "code",
   "execution_count": 37,
   "id": "12e2c23b",
   "metadata": {},
   "outputs": [
    {
     "name": "stdout",
     "output_type": "stream",
     "text": [
      "[[ 3.13790218 -7.22939498]\n",
      " [ 3.54055131 -7.47811091]\n",
      " [ 8.80964468  3.67443952]\n",
      " [-9.16883774  5.20491168]]\n"
     ]
    },
    {
     "data": {
      "text/plain": [
       "array([1, 1, 0, 2])"
      ]
     },
     "execution_count": 37,
     "metadata": {},
     "output_type": "execute_result"
    }
   ],
   "source": [
    "# Inspect the dataset.\n",
    "print(X[0:4])\n",
    "y[0:4]"
   ]
  },
  {
   "cell_type": "code",
   "execution_count": 38,
   "id": "49b5cbdc",
   "metadata": {},
   "outputs": [
    {
     "data": {
      "text/plain": [
       "Text(0.5, 1.0, 'Original Dataset')"
      ]
     },
     "execution_count": 38,
     "metadata": {},
     "output_type": "execute_result"
    },
    {
     "data": {
      "image/png": "[encoded data removed]",
      "text/plain": [
       "<Figure size 1000x700 with 1 Axes>"
      ]
     },
     "metadata": {
      "needs_background": "light"
     },
     "output_type": "display_data"
    }
   ],
   "source": [
    "# Plot the clusters.\n",
    "plt.figure(figsize=(10, 7), dpi=100)\n",
    "plt.scatter(X[:,0],X[:,1])\n",
    "plt.title('Original Dataset')"
   ]
  },
  {
   "cell_type": "code",
   "execution_count": 39,
   "id": "09ed620a",
   "metadata": {},
   "outputs": [],
   "source": [
    "# Compute the initial centroids randomly.\n",
    "import random\n",
    "K=4\n",
    "centroids = []\n",
    "# Create 5 random centroids.\n",
    "for k in range(K):\n",
    "    centroids.append(X[random.randint(0,m-1)]) #randint(0,199)"
   ]
  },
  {
   "cell_type": "code",
   "execution_count": 40,
   "id": "d69ff230",
   "metadata": {},
   "outputs": [
    {
     "data": {
      "text/plain": [
       "[array([-2.42961263,  0.5508583 ]),\n",
       " array([-10.15211047,   5.59813298]),\n",
       " array([-4.64255163,  1.77312913]),\n",
       " array([-3.31374292,  2.3393866 ])]"
      ]
     },
     "execution_count": 40,
     "metadata": {},
     "output_type": "execute_result"
    }
   ],
   "source": [
    "centroids"
   ]
  },
  {
   "cell_type": "code",
   "execution_count": 43,
   "id": "d06f7d40",
   "metadata": {},
   "outputs": [
    {
     "data": {
      "text/plain": [
       "[1,\n",
       " 1,\n",
       " 1,\n",
       " 2,\n",
       " 1,\n",
       " 1,\n",
       " 1,\n",
       " 1,\n",
       " 1,\n",
       " 2,\n",
       " 1,\n",
       " 1,\n",
       " 1,\n",
       " 1,\n",
       " 3,\n",
       " 1,\n",
       " 1,\n",
       " 3,\n",
       " 1,\n",
       " 2,\n",
       " 1,\n",
       " 2,\n",
       " 1,\n",
       " 1,\n",
       " 2,\n",
       " 1,\n",
       " 1,\n",
       " 1,\n",
       " 2,\n",
       " 2,\n",
       " 4,\n",
       " 1,\n",
       " 1,\n",
       " 2,\n",
       " 1,\n",
       " 1,\n",
       " 1,\n",
       " 1,\n",
       " 1,\n",
       " 2,\n",
       " 1,\n",
       " 3,\n",
       " 2,\n",
       " 1,\n",
       " 1,\n",
       " 1,\n",
       " 4,\n",
       " 3,\n",
       " 2,\n",
       " 1,\n",
       " 1,\n",
       " 1,\n",
       " 1,\n",
       " 1,\n",
       " 2,\n",
       " 2,\n",
       " 1,\n",
       " 2,\n",
       " 2,\n",
       " 1,\n",
       " 2,\n",
       " 1,\n",
       " 1,\n",
       " 1,\n",
       " 1,\n",
       " 2,\n",
       " 1,\n",
       " 2,\n",
       " 1,\n",
       " 1,\n",
       " 1,\n",
       " 1,\n",
       " 1,\n",
       " 2,\n",
       " 1,\n",
       " 2,\n",
       " 1,\n",
       " 1,\n",
       " 1,\n",
       " 1,\n",
       " 1,\n",
       " 1,\n",
       " 1,\n",
       " 1,\n",
       " 1,\n",
       " 1,\n",
       " 1,\n",
       " 1,\n",
       " 2,\n",
       " 3,\n",
       " 3,\n",
       " 1,\n",
       " 1,\n",
       " 1,\n",
       " 1,\n",
       " 1,\n",
       " 3,\n",
       " 2,\n",
       " 2,\n",
       " 1,\n",
       " 1,\n",
       " 2,\n",
       " 1,\n",
       " 1,\n",
       " 2,\n",
       " 1,\n",
       " 1,\n",
       " 1,\n",
       " 1,\n",
       " 3,\n",
       " 1,\n",
       " 1,\n",
       " 2,\n",
       " 2,\n",
       " 2,\n",
       " 1,\n",
       " 2,\n",
       " 2,\n",
       " 3,\n",
       " 1,\n",
       " 3,\n",
       " 1,\n",
       " 2,\n",
       " 2,\n",
       " 1,\n",
       " 1,\n",
       " 2,\n",
       " 1,\n",
       " 1,\n",
       " 2,\n",
       " 1,\n",
       " 1,\n",
       " 2,\n",
       " 1,\n",
       " 1,\n",
       " 1,\n",
       " 1,\n",
       " 3,\n",
       " 2,\n",
       " 2,\n",
       " 1,\n",
       " 1,\n",
       " 4,\n",
       " 2,\n",
       " 2,\n",
       " 1,\n",
       " 3,\n",
       " 1,\n",
       " 2,\n",
       " 1,\n",
       " 1,\n",
       " 1,\n",
       " 3,\n",
       " 1,\n",
       " 2,\n",
       " 1,\n",
       " 1,\n",
       " 2,\n",
       " 1,\n",
       " 1,\n",
       " 3,\n",
       " 1,\n",
       " 1,\n",
       " 2,\n",
       " 1,\n",
       " 1,\n",
       " 1,\n",
       " 2,\n",
       " 2,\n",
       " 3,\n",
       " 1,\n",
       " 2,\n",
       " 3,\n",
       " 1,\n",
       " 1,\n",
       " 4,\n",
       " 1,\n",
       " 2,\n",
       " 3,\n",
       " 1,\n",
       " 1,\n",
       " 1,\n",
       " 1,\n",
       " 1,\n",
       " 1,\n",
       " 3,\n",
       " 1,\n",
       " 1,\n",
       " 4,\n",
       " 1,\n",
       " 1,\n",
       " 1,\n",
       " 2,\n",
       " 4,\n",
       " 1,\n",
       " 1,\n",
       " 1,\n",
       " 2,\n",
       " 3,\n",
       " 1]"
      ]
     },
     "execution_count": 43,
     "metadata": {},
     "output_type": "execute_result"
    }
   ],
   "source": [
    "# Create an empty array.\n",
    "euclid = {}\n",
    "minimum = []\n",
    "for i in range(m):\n",
    "  euclid[i] = list()\n",
    "# Find distance between from each points to 4 centroids.\n",
    "for j in range(m):\n",
    "  for k in range(K):\n",
    "       dist = np.sum((X[j]-centroids[k])**2) # dist = (200,)\n",
    "       euclid[j].append(dist)\n",
    "# Store the minimum value we have computed.\n",
    "for l in range(m):\n",
    "    min_index = -1\n",
    "    tmin = min(euclid[l])\n",
    "    for i in range (K):\n",
    "        if(tmin == euclid[l][i]):\n",
    "            min_index = i\n",
    "    minimum.append(min_index+1)\n",
    "minimum"
   ]
  },
  {
   "cell_type": "code",
   "execution_count": 95,
   "id": "913fc27a",
   "metadata": {},
   "outputs": [],
   "source": [
    "def euclid_distance(x1,x2):\n",
    "    return np.sqrt(np.sum((x1-x2)**2))\n",
    "\n",
    "# distance = [euclid_distance(X[i],centroids[k]) for k in range(K)]\n",
    "# cent = {}\n",
    "# for k in range(K):\n",
    "#     cent[k+1] = np.array([]).reshape(0,2)\n",
    "#     d = np.array([]).reshape(0,2)\n",
    "#     for mm in range (m):\n",
    "#         d = euclid_distance(centroids[k], X[mm])\n",
    "#     cent[k+1] = d\n",
    "# cent"
   ]
  },
  {
   "cell_type": "code",
   "execution_count": 93,
   "id": "7574eeb7",
   "metadata": {},
   "outputs": [],
   "source": [
    "# # Repeat the steps \n",
    "# for i in range(n_iter):\n",
    "#     #Calculate the distance.\n",
    "#     #Write your code here for distance calculation.\n",
    "    \n",
    "#     cent = {}\n",
    "#     for k in range(K):\n",
    "#         cent[k+1] = np.array([]).reshape(0,2)\n",
    "#         d = np.array([]).reshape(0,2)\n",
    "#         for mm in range (m):\n",
    "#             d = euclid_distance(centroids[k], X[mm])\n",
    "#         cent[k+1] = d\n",
    "\n",
    "#     # Assign clusters to points.\n",
    "#     for k in range(m):\n",
    "#         #write your code here and remove continue.\n",
    "        \n",
    "#         continue \n",
    "\n",
    "#     # Compute mean and update.\n",
    "#     for k in range(K):\n",
    "#         #write your code here and remove continue.\n",
    "#         continue \n",
    "\n",
    "#     final = cent"
   ]
  },
  {
   "cell_type": "code",
   "execution_count": 98,
   "id": "0e42109e",
   "metadata": {},
   "outputs": [],
   "source": [
    "# Repeat the steps \n",
    "for i in range(n_iter):\n",
    "    #Calculate the distance.\n",
    "    #Write your code here for distance calculation.\n",
    "    \n",
    "    cent = {}\n",
    "    for k in range(K):\n",
    "        cent[k+1] = np.array([]).reshape(0,2)\n",
    "        d = np.array([]).reshape(0,2)\n",
    "        for mm in range (m):\n",
    "            d = euclid_distance(centroids[k], X[mm])\n",
    "        cent[k+1] = d\n",
    "\n",
    "    # Assign clusters to points.\n",
    "    label = {}\n",
    "    for k in range(m):\n",
    "        #write your code here and remove continue.\n",
    "        label[k+1] = minimum[k]\n",
    "        #continue \n",
    "\n",
    "    # Compute mean and update.\n",
    "    for k in range(K):\n",
    "        #write your code here and remove continue.\n",
    "        continue \n",
    "\n",
    "    final = cent"
   ]
  },
  {
   "cell_type": "code",
   "execution_count": null,
   "id": "3ca4c11a",
   "metadata": {},
   "outputs": [],
   "source": []
  }
 ],
 "metadata": {
  "kernelspec": {
   "display_name": "Python 3 (ipykernel)",
   "language": "python",
   "name": "python3"
  },
  "language_info": {
   "codemirror_mode": {
    "name": "ipython",
    "version": 3
   },
   "file_extension": ".py",
   "mimetype": "text/x-python",
   "name": "python",
   "nbconvert_exporter": "python",
   "pygments_lexer": "ipython3",
   "version": "3.9.7"
  }
 },
 "nbformat": 4,
 "nbformat_minor": 5
}
