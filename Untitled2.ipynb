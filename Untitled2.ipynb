{
 "cells": [
  {
   "cell_type": "code",
   "execution_count": 6,
   "id": "8f7ca71d",
   "metadata": {},
   "outputs": [
    {
     "name": "stdout",
     "output_type": "stream",
     "text": [
      "g_best_fit = 0.00950670914622237\n",
      "g_best= [-0.56602119  0.37741871  1.21706132]\n"
     ]
    }
   ],
   "source": [
    "import numpy as np\n",
    "def ft(x1, x2, x3):\n",
    "    return x1*x1 + x2*x2 + x3*x3\n",
    "particles = 30\n",
    "vmax = 3\n",
    "vmin = -3\n",
    "X = np.random.uniform(-10,10,(particles,3))\n",
    "V = np.random.uniform(vmin,vmax,(particles,3))\n",
    "p_best = X\n",
    "p_best_fit = ft(X[:,0], X[:,1],X[:,2])\n",
    "g_best = X[np.argmin(p_best_fit)]\n",
    "g_best_fit = ft(g_best[0], g_best[1], g_best[2])\n",
    "#parameters\n",
    "w = 0.9\n",
    "c1 = 2\n",
    "c2 = 2\n",
    "def up():\n",
    "    global X, V, w, c1, c2, p_best, p_best_fit, g_best, g_best_fit, vmin, vmax\n",
    "    for i in range(particles):\n",
    "        r1 = np.random.rand()\n",
    "        r2 = np.random.rand()\n",
    "        V = w*V + c1*r1*(p_best-X)+c2*r2*(g_best-X)\n",
    "        for vel in range(particles):\n",
    "            for dim in range(3):\n",
    "                if(V[i,dim] > vmax):\n",
    "                    V[i,dim] = vmax\n",
    "                elif(V[i,dim]<vmin):\n",
    "                    V[i,dim] = vmin\n",
    "        X = X + V\n",
    "        new_fit = ft(X[:,0], X[:,1], X[:,2])\n",
    "        for p in range(particles):\n",
    "            if(new_fit[p] < p_best_fit[i]):\n",
    "                p_best_fit[p] = new_fit[p]\n",
    "                p_best[p] = X[p]\n",
    "            if(p_best_fit[p] < g_best_fit):\n",
    "                g_best_fit = p_best_fit[p]\n",
    "                g_best = p_best[p]\n",
    "\n",
    "#function\n",
    "for i in range(200):\n",
    "    up()\n",
    "print(f\"g_best_fit = {g_best_fit}\\ng_best= {g_best}\")"
   ]
  }
 ],
 "metadata": {
  "kernelspec": {
   "display_name": "Python 3 (ipykernel)",
   "language": "python",
   "name": "python3"
  },
  "language_info": {
   "codemirror_mode": {
    "name": "ipython",
    "version": 3
   },
   "file_extension": ".py",
   "mimetype": "text/x-python",
   "name": "python",
   "nbconvert_exporter": "python",
   "pygments_lexer": "ipython3",
   "version": "3.9.7"
  }
 },
 "nbformat": 4,
 "nbformat_minor": 5
}
